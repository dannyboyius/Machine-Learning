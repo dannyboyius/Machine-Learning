{
  "nbformat": 4,
  "nbformat_minor": 0,
  "metadata": {
    "colab": {
      "name": "GW_CSRM_Submission 3.ipynb",
      "provenance": [],
      "collapsed_sections": [],
      "include_colab_link": true
    },
    "kernelspec": {
      "name": "python3",
      "display_name": "Python 3"
    }
  },
  "cells": [
    {
      "cell_type": "markdown",
      "metadata": {
        "id": "view-in-github",
        "colab_type": "text"
      },
      "source": [
        "<a href=\"https://colab.research.google.com/github/dannyboyius/Machine-Learning/blob/master/GW_CSRM_Submission_3.ipynb\" target=\"_parent\"><img src=\"https://colab.research.google.com/assets/colab-badge.svg\" alt=\"Open In Colab\"/></a>"
      ]
    },
    {
      "cell_type": "markdown",
      "metadata": {
        "id": "ql8VFpDOvYHW",
        "colab_type": "text"
      },
      "source": [
        "# Case Studies in Risk Management\n",
        "\n",
        "## Group Work Submission 3 _ Group 2 - B\n",
        "\n",
        "- Ishmael Ato Afran\t\n",
        "- Aly Diadjiry Coulibaly\t\n",
        "- Daniel Kwaku Boateng\t\n",
        "- Andrey Vershinin"
      ]
    },
    {
      "cell_type": "markdown",
      "metadata": {
        "id": "cM9jKaRG0afO",
        "colab_type": "text"
      },
      "source": [
        "## INTRODUCTION"
      ]
    },
    {
      "cell_type": "markdown",
      "metadata": {
        "id": "gApE6AxRvWJ9",
        "colab_type": "text"
      },
      "source": [
        "\n",
        "Financial crisis is the direct result of non-functioning financial system of the financial institution. A healthy and scalable economy thrives on a dynamic financial system that ensures funds are transfered to economic agents with the most productive investment opportunities. The inability of these agents to have equal opportunities because the financial markets perform well to one in which output declines sharply because the financial system is unable to channel funds to those with the best investment opportunities then it is imminent financial crisis has arise. According Lin (2009) the initial liquidity crisis resulted from the subprime mortgage crisis. The opinion that the global crisis started with the burst of the US housing bubble is not an isolated phenomenon but is rather linked to the US recession that began in December 2007 following a boom of November 2007 According to Akkas A (2009).\n",
        "\n",
        "According to Dykes (2009), the Ned bank group chief economist, China used stimulus policies that included low interest rates and taxes and experienced large economies of scale therefore driving prices of its products down. These cheap products from China were exported to Europe and the USA. China had a large current account surplus which matched the large deficit for Europe and USA. Considering the BRICS countries (Brasil,Russia, India, China, South Africa)mostly surpassing China and India in the terms of wealth (GDP per capita in PPP terms), are at the same time significantly behind of them in terms of the domestic markets size, especially the potential ones. For this reason alone, Brazil, Russia and South Africa are dependent on the world market rather than are able to influence it. In addition, these economies are too heavily dependent on the world level of commodity prices. This dependency is unlikely to be eliminated anytime soon), and some of the monetary authorities decisions have negative side effects. The causes of the crisis have become fairly clear, the US housing bubble playing a major role among other causes. Factors such as the strong liquidity stemming from loose Monetary olicies,financial innovation, poor regulation and the Chinese surpluses contributed greatly to the global financial crisis.\n",
        "\n",
        "In the previous two submissions, we adopted both the theoretical and statistical models to demonstrate the causes, impact, application and results in the case of South Africa with the AS-AD and IS-LM-IP models. We explored various dimensions (social, economical, political and historical) of South African economic change and development from 1990 to 2009, and periods covering Mandela (1994-1999) and Mbeki (1999-2008) presidencies. We identified one key primary risk factor and exploratory analysis with graphs by exploiting the lecture notes and other credible references. \n",
        "We also seized the opportunity to appreciate South African economy’s resilience during the different financial crises (Asian (1997), Dot.com Bubble (2000), and subprime (2008)) and  investigated key economic aggregates (GDP, exchange rate, interest rate, foreign direct investment…)and portfolio risk management. \n",
        "\n",
        "In this third submission we will examines the impact of the global financial crisis on South Africa focusing on how the highly centralized federal system responded to the crisis. Also, exploring both public and monetary policy and its relationship with other macroeconomic indicators, investigating the main factors that triggered recent global financial crises, challenge faced as a result of investors decisions and its impact on the South African economy.\n",
        "The work will be structured as follows: an introduction, background to the global financial crisis, literature review, data and methodology, statistical analysis, macroeconomic modelling,  conclusion,  references and appendices. \n",
        "\n",
        "# 2. BACKGROUND TO THE FINANCIAL CRISIS \n",
        "\n",
        "The economic integration among member countries of recent decades especially financial integration has benefited countries known as the emerging economics like (Brasil, Russia, India, China, South Afrca) who form the BRICS. Due to these integration amongst the BRICS has also been associated with turbulence during financial crisis whether global or regional.\n",
        "South Africa has been no exception. Over the past 19 years,  South Afrca's financial markets has been mostly affected severely by the global financial crisis.\n",
        "In view of the crisis ececonomist have been studying the dynamics and underlying causes  to direct their study to the impact on the South Africa economy.\n",
        "In this study we'll shed light on what constitute a finnancial crisis and the types of financial instability experienced over the recent pass years.\n",
        "The global economic and financial crisis that started with the bursting of the housing bubbles in the United States led to general concern about credit quality in the advanced economies. The crisis affected advanced economies, emerging markets and developing countries in very different ways (see Chudik and Fratzscher, 2011). Advanced economies were first hit mainly by the systemic banking crisis in the United States and Europe. Emerging markets with well-developed financial systems were initially mostly\n",
        "affected by cross-border financial linkages through capital flows and exchange rates. In developing countries of which most of the sub-Saharan African countries belong to, the effects on real factors such as trade, tourism, workers’ remittances, and official development assistance dominated. \n",
        "The main macro‐estimates of unemployment rates in South Africa clearly show both cyclical sensitivity and a secularly rising upward trend, presenting a striking similarity with the United Kingdom and other OECD countries. The rising long‐term trend in the unemployment rate is not confined to Blacks but probably applies to Whites, Coloureds and Asians also. It has been mainly due to a decline in the demand for labour caused by a falling rate of capital accumulation rather than by rising capital‐intensity. The slower rate of capital accumulation stems primarily from forces originating abroad, which have affected the world economy as a whole, though the fluctuating gold price has aggravated our problems. Policy in the spheres of international trade and monetary relations is therefore crucial and there are reasons for concern over current thinking in these areas.\n",
        "\n",
        "The advent of political democracy in South Africa has brought into sharp focus those macroeconomic and labour policies designed to combat unacceptably high unemployment levels, that have escalated steadily to present estimates of approximately 40 per cent of the Economically Active Population. The continuing implementation of neo‐liberal orthodox policies, the authors maintain, will aggravate the problem. \n",
        "\n",
        "### Inflation Targeting Framework \n",
        "South Africa formally introduced inflation targeting in February 2000, after announcing the intention to adopt the framework in August 1999. Prior to adopting the inflation-targeting framework, the Bank had adopted a number of frameworks. Between 1960 and 1998, these included exchange-rate targeting, discretionary monetary policy, monetary-aggregate targeting and an eclectic approach.\n",
        " \n",
        "Inflation targeting is a monetary policy framework in which the central bank announces an explicit inflation target and implements policy to achieve this target directly. One of the features of an inflation-targeting framework is the greater degree of transparency it brings to monetary policy.\n",
        " \n",
        "Inflation targeting has been adopted in a number of countries. The choice of the target varies across countries. Some countries have opted for target ranges in specifying their inflation targets, while others prefer a point target or a point target combined with a range. The trade-off in this regard is essentially between the simplicity of a point target and the degree of flexibility for absorbing shocks outside the control of the authorities which a target range allows.\n",
        " \n",
        "It is acknowledged that monetary policy cannot contribute directly to economic growth and employment creation in the long run. However, by creating a stable financial environment, monetary policy fulfils an important precondition for the attainment of economic development. TBC"
      ]
    },
    {
      "cell_type": "markdown",
      "metadata": {
        "id": "iKt30I4cvHUQ",
        "colab_type": "text"
      },
      "source": [
        "# 2. Literature review\n",
        "### According to the CSRM note 1 m5, the 2007-9 financial crisis, which led to the Great Recession of the late 2000s and early 2010s, began with the financial and economic decisions of the 2000s made by the major economies of the global financial sector. These decisions ultimately led to a major worldwide economic depression that was probably the closest thing to the Great Depression the world economy has experienced. These decisions created problems with sub-prime mortgages, lending practices, credit ratings, and the integral connections between states led to the crisis.\n",
        "### The global financial crisis has had a severe impact on South Africa. The economy went into recession in 2008/09 for the first time in 19 years. Nearly a million jobs were lost in 2009 alone and the unemployment rate continued to remain high with 25%. Economic growth has resumed a bit in the recent past, but the recovery is fragile, and another recession may be possible. Rising unemployment and poverty have placed greater demands on state resources even as revenues contracted, and there is mounting political pressure on government to review its economic policy."
      ]
    },
    {
      "cell_type": "markdown",
      "metadata": {
        "id": "KT4eu60qvBqw",
        "colab_type": "text"
      },
      "source": [
        "# 3.Data and methodology"
      ]
    },
    {
      "cell_type": "markdown",
      "metadata": {
        "id": "uqa9UuHV1jFm",
        "colab_type": "text"
      },
      "source": [
        "## 3.1 Data\n"
      ]
    },
    {
      "cell_type": "code",
      "metadata": {
        "id": "HmDgCkKb2Gyl",
        "colab_type": "code",
        "colab": {}
      },
      "source": [
        "# import libraries\n",
        "import pandas as pd, numpy as np\n",
        "import holoviews as hv\n",
        "import hvplot.pandas\n",
        "\n",
        "from pandas_datareader import wb\n",
        "from scipy.stats import iqr\n",
        "from scipy.optimize import fsolve\n",
        "from scipy import signal\n",
        "\n",
        "hv.extension('bokeh')\n",
        "pd.core.common.is_list_like = pd.api.types.is_list_like\n",
        "np.random.seed(42)\n",
        "%env HV_DOC_HTML=true\n"
      ],
      "execution_count": 0,
      "outputs": []
    },
    {
      "cell_type": "markdown",
      "metadata": {
        "id": "zgQrrh3cu5wC",
        "colab_type": "text"
      },
      "source": [
        "# 4.statistical analysis and macroeconomic modelling                                             \n"
      ]
    },
    {
      "cell_type": "markdown",
      "metadata": {
        "id": "B7y0dpziuvCW",
        "colab_type": "text"
      },
      "source": [
        "# 5.Conclusion"
      ]
    },
    {
      "cell_type": "markdown",
      "metadata": {
        "id": "S8sUH9jzuZKG",
        "colab_type": "text"
      },
      "source": [
        "# References\n",
        "International Business & Economics Research Journal (IBER) – February 2012 Volume 11, Number 2\n",
        "\n",
        "Bradfield, D. & Kgomari, W. 2004. Concentration-should we be mindful of it.\n",
        "\n",
        "Kruger, R. & Van Rensburg, P. 2008. Evaluating and constructing equity benchmarks in the South African portfolio management context. Investment Analysts Journal ISSNOnline) Journal. 67(37):5–17. DOI: 10.1080/10293523.2008.11082495.\n",
        "\n",
        "Page, M.J. 1986. Empirical testing of the Arbitrage Pricing Theory using : data from the Johannesburg Stock Exchange. South African Journal of Business Management. 17(1):38–42.\n"
      ]
    },
    {
      "cell_type": "markdown",
      "metadata": {
        "id": "flpmDXMitxzR",
        "colab_type": "text"
      },
      "source": [
        "# Appendix A"
      ]
    },
    {
      "cell_type": "code",
      "metadata": {
        "id": "BZFZLu3TtG_A",
        "colab_type": "code",
        "outputId": "4ecabc5d-e862-4fa0-860d-75e397531101",
        "colab": {
          "base_uri": "https://localhost:8080/",
          "height": 1000
        }
      },
      "source": [
        "!pip install hvplot==0.2.1\n",
        "!pip install bokeh==0.12.15\n",
        "!pip install holoviews==1.10.7"
      ],
      "execution_count": 0,
      "outputs": [
        {
          "output_type": "stream",
          "text": [
            "Collecting hvplot==0.2.1\n",
            "\u001b[?25l  Downloading https://files.pythonhosted.org/packages/ba/ef/f554eaad309a47ebf8c83bf6bcd07b23d7e410d9d9f43b5da9531d435a34/hvplot-0.2.1-py2.py3-none-any.whl (1.3MB)\n",
            "\u001b[K     |████████████████████████████████| 1.3MB 11.9MB/s \n",
            "\u001b[?25hRequirement already satisfied: bokeh>=0.12.15 in /usr/local/lib/python3.6/dist-packages (from hvplot==0.2.1) (1.0.4)\n",
            "Collecting holoviews>=1.10.5\n",
            "\u001b[?25l  Downloading https://files.pythonhosted.org/packages/bc/63/3ffc471d37c50a470a8a102f098b5cc79d7971196fc2d8e75c064dade311/holoviews-1.12.7-py2.py3-none-any.whl (4.0MB)\n",
            "\u001b[K     |████████████████████████████████| 4.0MB 58.9MB/s \n",
            "\u001b[?25hRequirement already satisfied: pandas in /usr/local/lib/python3.6/dist-packages (from hvplot==0.2.1) (0.25.3)\n",
            "Requirement already satisfied: packaging>=16.8 in /usr/local/lib/python3.6/dist-packages (from bokeh>=0.12.15->hvplot==0.2.1) (19.2)\n",
            "Requirement already satisfied: PyYAML>=3.10 in /usr/local/lib/python3.6/dist-packages (from bokeh>=0.12.15->hvplot==0.2.1) (3.13)\n",
            "Requirement already satisfied: pillow>=4.0 in /usr/local/lib/python3.6/dist-packages (from bokeh>=0.12.15->hvplot==0.2.1) (4.3.0)\n",
            "Requirement already satisfied: tornado>=4.3 in /usr/local/lib/python3.6/dist-packages (from bokeh>=0.12.15->hvplot==0.2.1) (4.5.3)\n",
            "Requirement already satisfied: numpy>=1.7.1 in /usr/local/lib/python3.6/dist-packages (from bokeh>=0.12.15->hvplot==0.2.1) (1.17.4)\n",
            "Requirement already satisfied: Jinja2>=2.7 in /usr/local/lib/python3.6/dist-packages (from bokeh>=0.12.15->hvplot==0.2.1) (2.10.3)\n",
            "Requirement already satisfied: six>=1.5.2 in /usr/local/lib/python3.6/dist-packages (from bokeh>=0.12.15->hvplot==0.2.1) (1.12.0)\n",
            "Requirement already satisfied: python-dateutil>=2.1 in /usr/local/lib/python3.6/dist-packages (from bokeh>=0.12.15->hvplot==0.2.1) (2.6.1)\n",
            "Collecting param<2.0,>=1.8.0\n",
            "\u001b[?25l  Downloading https://files.pythonhosted.org/packages/09/56/82754e08729b787748a5a0c9e347704caa68c345ee18728bc997aa19f97c/param-1.9.2-py2.py3-none-any.whl (70kB)\n",
            "\u001b[K     |████████████████████████████████| 71kB 9.3MB/s \n",
            "\u001b[?25hCollecting pyviz-comms>=0.7.2\n",
            "  Downloading https://files.pythonhosted.org/packages/9d/66/77220e2da76b65da0e6daaa30091062f569935deb3ae8f4de03533496800/pyviz_comms-0.7.2-py2.py3-none-any.whl\n",
            "Requirement already satisfied: pytz>=2017.2 in /usr/local/lib/python3.6/dist-packages (from pandas->hvplot==0.2.1) (2018.9)\n",
            "Requirement already satisfied: pyparsing>=2.0.2 in /usr/local/lib/python3.6/dist-packages (from packaging>=16.8->bokeh>=0.12.15->hvplot==0.2.1) (2.4.5)\n",
            "Requirement already satisfied: olefile in /usr/local/lib/python3.6/dist-packages (from pillow>=4.0->bokeh>=0.12.15->hvplot==0.2.1) (0.46)\n",
            "Requirement already satisfied: MarkupSafe>=0.23 in /usr/local/lib/python3.6/dist-packages (from Jinja2>=2.7->bokeh>=0.12.15->hvplot==0.2.1) (1.1.1)\n",
            "Installing collected packages: param, pyviz-comms, holoviews, hvplot\n",
            "Successfully installed holoviews-1.12.7 hvplot-0.2.1 param-1.9.2 pyviz-comms-0.7.2\n",
            "Collecting bokeh==0.12.15\n",
            "\u001b[?25l  Downloading https://files.pythonhosted.org/packages/ad/67/82f17df7d1f4b9e81c9263c1a1dc3897c43cf5a9461872f9054517331f77/bokeh-0.12.15.tar.gz (13.6MB)\n",
            "\u001b[K     |████████████████████████████████| 13.6MB 168kB/s \n",
            "\u001b[?25hRequirement already satisfied: six>=1.5.2 in /usr/local/lib/python3.6/dist-packages (from bokeh==0.12.15) (1.12.0)\n",
            "Requirement already satisfied: PyYAML>=3.10 in /usr/local/lib/python3.6/dist-packages (from bokeh==0.12.15) (3.13)\n",
            "Requirement already satisfied: python-dateutil>=2.1 in /usr/local/lib/python3.6/dist-packages (from bokeh==0.12.15) (2.6.1)\n",
            "Requirement already satisfied: Jinja2>=2.7 in /usr/local/lib/python3.6/dist-packages (from bokeh==0.12.15) (2.10.3)\n",
            "Requirement already satisfied: numpy>=1.7.1 in /usr/local/lib/python3.6/dist-packages (from bokeh==0.12.15) (1.17.4)\n",
            "Requirement already satisfied: packaging>=16.8 in /usr/local/lib/python3.6/dist-packages (from bokeh==0.12.15) (19.2)\n",
            "Requirement already satisfied: tornado>=4.3 in /usr/local/lib/python3.6/dist-packages (from bokeh==0.12.15) (4.5.3)\n",
            "Requirement already satisfied: MarkupSafe>=0.23 in /usr/local/lib/python3.6/dist-packages (from Jinja2>=2.7->bokeh==0.12.15) (1.1.1)\n",
            "Requirement already satisfied: pyparsing>=2.0.2 in /usr/local/lib/python3.6/dist-packages (from packaging>=16.8->bokeh==0.12.15) (2.4.5)\n",
            "Building wheels for collected packages: bokeh\n",
            "  Building wheel for bokeh (setup.py) ... \u001b[?25l\u001b[?25hdone\n",
            "  Created wheel for bokeh: filename=bokeh-0.12.15-cp36-none-any.whl size=4939343 sha256=4c74863027abd21e60d16d376190cb32d2aa3b9deb13a7c24bb817425f155b68\n",
            "  Stored in directory: /root/.cache/pip/wheels/0a/56/87/e8aaa58b05288bb4004cb11db4d502134552c996c0d84c0704\n",
            "Successfully built bokeh\n",
            "Installing collected packages: bokeh\n",
            "  Found existing installation: bokeh 1.0.4\n",
            "    Uninstalling bokeh-1.0.4:\n",
            "      Successfully uninstalled bokeh-1.0.4\n",
            "Successfully installed bokeh-0.12.15\n",
            "Collecting holoviews==1.10.7\n",
            "\u001b[?25l  Downloading https://files.pythonhosted.org/packages/ec/40/ab56f78416681a3aac3c0374e57de94e85e3d78a9339a90eb3fc4c39c2a7/holoviews-1.10.7-py2.py3-none-any.whl (3.6MB)\n",
            "\u001b[K     |████████████████████████████████| 3.6MB 9.4MB/s \n",
            "\u001b[?25hRequirement already satisfied: pyviz-comms in /usr/local/lib/python3.6/dist-packages (from holoviews==1.10.7) (0.7.2)\n",
            "Requirement already satisfied: param<2.0,>=1.6.1 in /usr/local/lib/python3.6/dist-packages (from holoviews==1.10.7) (1.9.2)\n",
            "Requirement already satisfied: numpy>=1.0 in /usr/local/lib/python3.6/dist-packages (from holoviews==1.10.7) (1.17.4)\n",
            "Installing collected packages: holoviews\n",
            "  Found existing installation: holoviews 1.12.7\n",
            "    Uninstalling holoviews-1.12.7:\n",
            "      Successfully uninstalled holoviews-1.12.7\n",
            "Successfully installed holoviews-1.10.7\n"
          ],
          "name": "stdout"
        }
      ]
    }
  ]
}