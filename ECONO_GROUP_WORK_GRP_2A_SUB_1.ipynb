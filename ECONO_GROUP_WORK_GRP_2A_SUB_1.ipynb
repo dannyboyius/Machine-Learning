{
  "nbformat": 4,
  "nbformat_minor": 0,
  "metadata": {
    "colab": {
      "name": "ECONO_GROUP WORK_GRP_2A_SUB_1",
      "provenance": [],
      "authorship_tag": "ABX9TyMYMCDGhclmhq8xDZDpvLGF",
      "include_colab_link": true
    },
    "kernelspec": {
      "name": "python3",
      "display_name": "Python 3"
    }
  },
  "cells": [
    {
      "cell_type": "markdown",
      "metadata": {
        "id": "view-in-github",
        "colab_type": "text"
      },
      "source": [
        "<a href=\"https://colab.research.google.com/github/dannyboyius/Machine-Learning/blob/master/ECONO_GROUP_WORK_GRP_2A_SUB_1.ipynb\" target=\"_parent\"><img src=\"https://colab.research.google.com/assets/colab-badge.svg\" alt=\"Open In Colab\"/></a>"
      ]
    },
    {
      "cell_type": "markdown",
      "metadata": {
        "id": "16POOEb4bDk9",
        "colab_type": "text"
      },
      "source": [
        "## Submission1:Basic Statistics,Linear Regression,and Univariate Analysis"
      ]
    },
    {
      "cell_type": "markdown",
      "metadata": {
        "id": "p5-luyVgat1X",
        "colab_type": "text"
      },
      "source": [
        "This submission requires you to implement linear regression in forecasting and analysis. Linear\n",
        "regression represents a basic econometric tool and it is the starting point for a variety of\n",
        "prediction models such as ARMA and non-linear algorithms. You will also use the Box-Jenkins\n",
        "approach for selecting the optimal parameters of ARMA forecasting model. Exogenous variables, which improve model forecasts, must be indicated at the end of this submission, to combine with finance theory and research.\n",
        "\n",
        "## Basic Statistics\n",
        "\n",
        "Download JP Morgan stock historical prices from Yahoo Finance with the following characteristics:\n",
        "\n",
        "- Period: February 1, 2018 – December 30, 2018\n",
        "\n",
        "- Frequency: Daily\n",
        "\n",
        "- Price considered in the analysis: Close price adjusted for dividends and splits\n",
        "\n",
        "### SOLUTION DATA\n",
        "\n",
        "##### Downloaded JP Morgan stock historical prices from Yahoo Finance from: \n",
        "- February 1, 2018 – December 30, 2018\n",
        "\n",
        "- Daily Prices\n",
        "\n",
        "- Close price adjusted for dividends and splits\n",
        "\n",
        "https://finance.yahoo.com/quote/JPM/history?period1=1517356800&period2=1546300800&interval=1d&filter=history&frequency=1d\n",
        "\n",
        "#### Using this data and R as the programming language, calculate the following:\n",
        "\n",
        "1. Average stock value\n",
        "2. Stock volatility\n",
        "3. Daily stock return\n",
        "\n",
        "#### SOLUTION USING R\n",
        "\n",
        "#### Using the same data above, calculate the following in Excel (you can use OpenOffice as an alternative to Excel):\n",
        "\n",
        "1. Average stock value\n",
        "2. Stock volatility\n",
        "3. Daily stock return\n",
        "4. Show JP Morgan stock price evolution using a scatter plot\n",
        "5. Add a trendline to the graph (trendline options – linear)\n",
        "\n",
        "#### Linear Regression\n",
        "\n",
        "1. Implement a two-variable regression in R language using the following data:\n",
        "- Explained variable: JP Morgan stock (adjusted close price)\n",
        "- Explanatory variable: S&P500\n",
        "- Period: February 1, 2018 – December 30, 2018\n",
        "- Frequency: Daily\n",
        "\n",
        "2. With the same variables as above (JP Morgan Stock and S&P500),implement a twovariable regression in Excel using LINEST function and Analysis ToolPak.\n",
        "\n",
        "### Univariate Time Series\n",
        "Download the following data:\n",
        "- Data source: https://fred.stlouisfed.org/series/CSUSHPISA\n",
        "- Period considered in the analysis: January 1987 – latest data\n",
        "- Frequency: monthly data\n",
        "With this data, do the following using R or Python languages:\n",
        "\n",
        "1. Forecast S&P/Case-Shiller U.S. National Home Price Index using an ARMA model.\n",
        "2. Implement the Augmented Dickey-Fuller Test for checking the existence of a unit root in\n",
        "Case-Shiller Index series.\n",
        "3. Implement an ARIMA(p,d,q) model. Determine p, d, q using Information Criterion or BoxJenkins methodology. Comment the results.\n",
        "4. Forecast the future evolution of Case-Shiller Index using the ARMA model. Test model using in-sample forecasts.\n",
        "\n",
        "Write a report where you research and suggest types of exogenous variables that can improve forecasts. In your references, indicate four (4) research articles or books at minimum.\n",
        "\n",
        "### Submission Requirements\n",
        "\n",
        "Required length for your report: about 500 words. Submit your report in a PDF document separate from the rest of the documents.\n",
        "\n",
        "Submit Excel spreadsheets and the source code separately. Add appropriate comments to explain how it works."
      ]
    },
    {
      "cell_type": "markdown",
      "metadata": {
        "id": "bJ7LcL59bEVC",
        "colab_type": "text"
      },
      "source": [
        ""
      ]
    }
  ]
}